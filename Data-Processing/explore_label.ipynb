{
 "cells": [
  {
   "cell_type": "markdown",
   "source": [
    "# Explore label\n",
    "Stefan/Yuzhao Heng\n",
    "Since Sat. Oct. 2nd, 2021\n",
    "\n",
    "Match labels typically stored in spreadsheets, to the ECG signals in the PVC dataset.\n",
    "\n",
    "\n",
    "## Setup\n"
   ],
   "metadata": {
    "collapsed": false
   }
  },
  {
   "cell_type": "code",
   "execution_count": 1,
   "metadata": {
    "collapsed": true
   },
   "outputs": [],
   "source": [
    "import numpy as np\n",
    "import pandas as pd\n",
    "import os\n",
    "from icecream import ic\n",
    "\n",
    "from ecg_data import EcgData\n",
    "from ecg_label import EcgLabel\n",
    "\n",
    "os.chdir('../../PVC_DATA')\n",
    "dg = EcgData()\n",
    "\n"
   ]
  },
  {
   "cell_type": "markdown",
   "source": [
    "## Data for Dae and Weiqing.csv\n",
    "Seems to contain 156 VTs, which aligns with the 156 4,200-dim VT signals in 'MM_classifier/vtdata.mat'.\n",
    "\n",
    "\n",
    "### Setup"
   ],
   "metadata": {
    "collapsed": false
   }
  },
  {
   "cell_type": "code",
   "execution_count": 2,
   "outputs": [],
   "source": [
    "dnm = 'daeVt'\n",
    "dset = dg(dnm)\n",
    "labels = EcgLabel(dnm)\n",
    "\n"
   ],
   "metadata": {
    "collapsed": false,
    "pycharm": {
     "name": "#%%\n"
    }
   }
  },
  {
   "cell_type": "markdown",
   "source": [
    "### Check if the ordering are the same"
   ],
   "metadata": {
    "collapsed": false
   }
  },
  {
   "cell_type": "code",
   "execution_count": 14,
   "outputs": [
    {
     "name": "stderr",
     "output_type": "stream",
     "text": [
      "ic| cnms_d[:10]: array(['42_VT1', '42_VT2', '42_VT3', '42_VT4', '42_VT5', '42_VT6',\n",
      "                        '42_VT7', '42_VT8', '45_VT1', '45_VT2'], dtype='<U10')\n",
      "ic| cnms_l[:10]: array(['42_VT1', '42_VT2', '42_VT3', '42_VT4', '42_VT5', '42_VT6',\n",
      "                        '42_VT7', '42_VT8', '45_VT1', '45_VT2'], dtype='<U30')\n"
     ]
    }
   ],
   "source": [
    "cnms_d = dset['case_name']\n",
    "ic(cnms_d[:10])\n",
    "\n",
    "pat_num = labels['pat_num'].to_numpy().astype(np.str_)\n",
    "vt_name = labels['vt_name'].to_numpy()\n",
    "cnms_l = np.char.add(np.char.add(pat_num, '_'), vt_name)\n",
    "ic(cnms_l[:10])\n",
    "\n",
    "np.testing.assert_equal(cnms_d, cnms_l)\n",
    "\n"
   ],
   "metadata": {
    "collapsed": false,
    "pycharm": {
     "name": "#%%\n"
    }
   }
  }
 ],
 "metadata": {
  "kernelspec": {
   "display_name": "Python 3",
   "language": "python",
   "name": "python3"
  },
  "language_info": {
   "codemirror_mode": {
    "name": "ipython",
    "version": 2
   },
   "file_extension": ".py",
   "mimetype": "text/x-python",
   "name": "python",
   "nbconvert_exporter": "python",
   "pygments_lexer": "ipython2",
   "version": "2.7.6"
  }
 },
 "nbformat": 4,
 "nbformat_minor": 0
}