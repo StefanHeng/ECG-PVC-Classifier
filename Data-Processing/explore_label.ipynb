{
 "cells": [
  {
   "cell_type": "markdown",
   "source": [
    "# Explore label\n",
    "Stefan/Yuzhao Heng\n",
    "Since Sat. Oct. 2nd, 2021\n",
    "\n",
    "Match labels typically stored in spreadsheets, to the ECG signals in the PVC dataset.\n",
    "\n",
    "\n",
    "## Setup\n"
   ],
   "metadata": {
    "collapsed": false
   }
  },
  {
   "cell_type": "code",
   "execution_count": null,
   "metadata": {
    "collapsed": true
   },
   "outputs": [],
   "source": [
    "import os\n",
    "import pandas as pd\n",
    "from icecream import ic\n",
    "\n",
    "from ecg_data import EcgData\n",
    "from ecg_label import EcgLabel\n",
    "\n",
    "os.chdir('../../PVC_DATA')\n",
    "dg = EcgData()\n",
    "daeVt = dg('daeVt')\n",
    "\n"
   ]
  },
  {
   "cell_type": "markdown",
   "source": [
    "## Data for Dae and Weiqing.csv\n",
    "Seems to contain 156 VTs, which aligns with the 156 4,200-dim VT signals in 'MM_classifier/vtdata.mat'.\n",
    "\n",
    "\n",
    "### Setup\n",
    "\n"
   ],
   "metadata": {
    "collapsed": false
   }
  },
  {
   "cell_type": "code",
   "execution_count": null,
   "outputs": [],
   "source": [
    "fnm = 'Data for Dae and Weiqing_myver'\n",
    "df = pd.read_csv(f'{fnm}.csv')\n",
    "\n"
   ],
   "metadata": {
    "collapsed": false,
    "pycharm": {
     "name": "#%%\n"
    }
   }
  },
  {
   "cell_type": "markdown",
   "source": [
    "### Check if the ordering are the same"
   ],
   "metadata": {
    "collapsed": false
   }
  },
  {
   "cell_type": "code",
   "execution_count": null,
   "outputs": [],
   "source": [],
   "metadata": {
    "collapsed": false,
    "pycharm": {
     "name": "#%%\n"
    }
   }
  }
 ],
 "metadata": {
  "kernelspec": {
   "display_name": "Python 3",
   "language": "python",
   "name": "python3"
  },
  "language_info": {
   "codemirror_mode": {
    "name": "ipython",
    "version": 2
   },
   "file_extension": ".py",
   "mimetype": "text/x-python",
   "name": "python",
   "nbconvert_exporter": "python",
   "pygments_lexer": "ipython2",
   "version": "2.7.6"
  }
 },
 "nbformat": 4,
 "nbformat_minor": 0
}