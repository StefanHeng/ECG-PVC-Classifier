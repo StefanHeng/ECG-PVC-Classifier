{
 "cells": [
  {
   "cell_type": "markdown",
   "source": [
    "# Explore dataset directory\n",
    "\n",
    "Stefan/Yuzhao Heng\n",
    "\n",
    "Since Fri. Sep. 10th, 2021\n",
    "\n",
    "Explore the PVC dataset, understand what's contained in the files.\n",
    "\n",
    "## Setup\n"
   ],
   "metadata": {
    "collapsed": false
   }
  },
  {
   "cell_type": "code",
   "execution_count": 1,
   "metadata": {
    "collapsed": true,
    "pycharm": {
     "name": "#%%\n"
    }
   },
   "outputs": [],
   "source": [
    "# import numpy as np\n",
    "import pandas as pd\n",
    "from scipy.io import loadmat\n",
    "\n",
    "import re\n",
    "import os\n",
    "import glob\n",
    "from sys import getsizeof\n",
    "\n",
    "from icecream import ic\n",
    "\n",
    "# import matplotlib.pyplot as plt\n",
    "\n",
    "from util import *\n",
    "from ecg_data import DataGetter\n",
    "\n",
    "os.chdir('../../PVC_DATA')\n"
   ]
  },
  {
   "cell_type": "markdown",
   "source": [
    "## Check spreadsheets content\n",
    "\n",
    "### Data for Dae and Weiqing_myver\n",
    "\n"
   ],
   "metadata": {
    "collapsed": false
   }
  },
  {
   "cell_type": "code",
   "execution_count": 2,
   "outputs": [],
   "source": [
    "fnm = 'Data for Dae and Weiqing_myver'\n",
    "sheet_csv = pd.read_csv(f'{fnm}.csv')\n",
    "sheet_exe = pd.read_excel(f'{fnm}.xls')\n",
    "\n",
    "try:\n",
    "    # ic(sheet_csv, sheet_exe)\n",
    "    pd.testing.assert_frame_equal(sheet_csv, sheet_exe)  # Not equal\n",
    "except:\n",
    "    ...\n"
   ],
   "metadata": {
    "collapsed": false,
    "pycharm": {
     "name": "#%%\n"
    }
   }
  },
  {
   "cell_type": "markdown",
   "source": [
    "### Convert an XLS to CSV\n"
   ],
   "metadata": {
    "collapsed": false
   }
  },
  {
   "cell_type": "code",
   "execution_count": 3,
   "outputs": [],
   "source": [
    "try:\n",
    "    fnm = 'Data sum'\n",
    "    sheet = pd.read_excel(f'{fnm}.xls')\n",
    "    sheet.to_csv()\n",
    "except:\n",
    "    ...\n"
   ],
   "metadata": {
    "collapsed": false,
    "pycharm": {
     "name": "#%%\n"
    }
   }
  },
  {
   "cell_type": "markdown",
   "source": [
    "## Explore .MAT files\n",
    "\n",
    "### Find all .MAT files\n"
   ],
   "metadata": {
    "collapsed": false
   }
  },
  {
   "cell_type": "code",
   "execution_count": 4,
   "outputs": [
    {
     "name": "stderr",
     "output_type": "stream",
     "text": [
      "ic| len(mats): 17\n",
      "ic| nm: 'MM_classifier/alldata.mat', sz(nm): '47.4MiB'\n",
      "ic| nm: 'MM_classifier/ecg_nonnorm.mat', sz(nm): '9.5MiB'\n",
      "ic| nm: 'MM_classifier/vtdata.mat', sz(nm): '4.3MiB'\n",
      "ic| nm: 'MM_classifier/allcontrol.mat', sz(nm): '2.0MiB'\n",
      "ic| nm: 'MM_classifier/simul_123456789.mat', sz(nm): '1.3MiB'\n",
      "ic| nm: 'MM_classifier/pm_slopes.mat', sz(nm): '874.7KiB'\n",
      "ic| nm: 'MM_classifier/vtslope.mat', sz(nm): '87.8KiB'\n",
      "ic| nm: 'MM_classifier/Superior.mat', sz(nm): '78.7KiB'\n",
      "ic| nm: 'MM_classifier/pacemaplist_matlab_dyj.mat', sz(nm): '32.8KiB'\n",
      "ic| nm: 'MM_classifier/inferior.mat', sz(nm): '30.8KiB'\n",
      "ic| nm: 'MM_classifier/lvsam.mat', sz(nm): '13.4KiB'\n",
      "ic| nm: 'MM_classifier/rvsam.mat', sz(nm): '13.2KiB'\n",
      "ic| nm: 'MM_classifier/vt_slopefea32_1234.mat', sz(nm): '9.6KiB'\n",
      "ic| nm: 'MM_classifier/allname.mat', sz(nm): '7.4KiB'\n",
      "ic| nm: 'MM_classifier/freewall.mat', sz(nm): '4.7KiB'\n",
      "ic| nm: 'MM_classifier/filename.mat', sz(nm): '2.9KiB'\n",
      "ic| nm: 'MM_classifier/vtlist_matlab_dyj.mat', sz(nm): '1.1KiB'\n"
     ]
    }
   ],
   "source": [
    "def sz(x):\n",
    "    return sizeof_fmt(os.path.getsize(x))\n",
    "\n",
    "mats = glob.glob('**/*.mat', recursive=True)\n",
    "mats.sort(key=os.path.getsize, reverse=True)\n",
    "\n",
    "ic(len(mats))\n",
    "\n",
    "for nm in mats:\n",
    "    ic(nm, sz(nm))\n",
    "# for fnm in\n",
    "#     ic(fnm, sz(fnm))\n"
   ],
   "metadata": {
    "collapsed": false,
    "pycharm": {
     "name": "#%%\n"
    }
   }
  },
  {
   "cell_type": "markdown",
   "source": [
    "### Which ones contain the actual annotated signals?\n"
   ],
   "metadata": {
    "collapsed": false,
    "pycharm": {
     "name": "#%% md\n"
    }
   }
  },
  {
   "cell_type": "code",
   "execution_count": 5,
   "outputs": [
    {
     "name": "stderr",
     "output_type": "stream",
     "text": [
      "ic| candidates: ['MM_classifier/alldata.mat',\n",
      "                 'MM_classifier/ecg_nonnorm.mat',\n",
      "                 'MM_classifier/vtdata.mat',\n",
      "                 'MM_classifier/allcontrol.mat']\n",
      "ic| f: 'MM_classifier/alldata.mat'\n",
      "ic| key: 'pm_ecg', i.shape: (1589, 4200), s: '50.9MiB'\n",
      "ic| key: 'pm_epiendo', i.shape: (1589, 1), s: '1.6KiB'\n",
      "ic| key: 'pm_qrswidth', i.shape: (1589, 1), s: '3.1KiB'\n",
      "ic| key: 'vt_ecg', i.shape: (156, 4200), s: '5.0MiB'\n",
      "ic| key: 'vt_qrswidth', i.shape: (1, 156), s: '312.0B'\n",
      "ic| key: 'vtname', i.shape: (156, 1), s: '1.2KiB'\n",
      "ic| key: 'pmname', i.shape: (1589, 1), s: '12.4KiB'\n",
      "ic| key: 'vtcasename', i.shape: (156, 1), s: '1.2KiB'\n",
      "ic| key: 'pmcasename', i.shape: (1589, 1), s: '12.4KiB'\n",
      "ic| '\\n': '\n",
      "           '\n",
      "ic| f: 'MM_classifier/ecg_nonnorm.mat'\n",
      "ic| key: 'pm_ecg', i.shape: (503, 7644), s: '29.3MiB'\n",
      "ic| key: 'vt_ecg', i.shape: (55, 6336), s: '2.7MiB'\n",
      "ic| key: 'pvc_ecg', i.shape: (12, 5784), s: '542.2KiB'\n",
      "ic| '\\n': '\n",
      "           '\n",
      "ic| f: 'MM_classifier/vtdata.mat'\n",
      "ic| key: 'vt_ecg', i.shape: (156, 4200), s: '5.0MiB'\n",
      "ic| key: 'vt_qrswidth', i.shape: (1, 156), s: '312.0B'\n",
      "ic| key: 'vtname', i.shape: (156, 1), s: '1.2KiB'\n",
      "ic| key: 'vtcasename', i.shape: (156, 1), s: '1.2KiB'\n",
      "ic| '\\n': '\n",
      "           '\n",
      "ic| f: 'MM_classifier/allcontrol.mat'\n",
      "ic| key: 'pm_ecg', i.shape: (68, 4200), s: '2.2MiB'\n",
      "ic| key: 'pm_epiendo', i.shape: (68, 1), s: '68.0B'\n",
      "ic| key: 'pm_qrswidth', i.shape: (68, 1), s: '136.0B'\n",
      "ic| key: 'pvc_ecg', i.shape: (7, 4200), s: '229.7KiB'\n",
      "ic| key: 'pvc_qrswidth', i.shape: (7, 1), s: '14.0B'\n",
      "ic| key: 'pvcname', i.shape: (7, 1), s: '56.0B'\n",
      "ic| key: 'pmname', i.shape: (68, 1), s: '544.0B'\n",
      "ic| key: 'pvccasename', i.shape: (7, 1), s: '56.0B'\n",
      "ic| key: 'pmcasename', i.shape: (68, 1), s: '544.0B'\n",
      "ic| '\\n': '\n",
      "           '\n"
     ]
    }
   ],
   "source": [
    "def sz(x):\n",
    "    return sizeof_fmt(getsizeof(x))\n",
    "\n",
    "candidates = mats[:4]\n",
    "ic(candidates)\n",
    "\n",
    "for f in candidates:\n",
    "    ic(f)\n",
    "    mat = loadmat(f)\n",
    "\n",
    "    for key in mat.keys():\n",
    "        i = mat[key]\n",
    "        if type(i) is np.ndarray:\n",
    "            s = sizeof_fmt(i.nbytes)\n",
    "            ic(key, i.shape, s)\n",
    "\n",
    "    ic('\\n')\n"
   ],
   "metadata": {
    "collapsed": false,
    "pycharm": {
     "name": "#%%\n"
    }
   }
  },
  {
   "cell_type": "markdown",
   "source": [
    "#### alldata.mat\n"
   ],
   "metadata": {
    "collapsed": false
   }
  },
  {
   "cell_type": "code",
   "execution_count": 6,
   "outputs": [
    {
     "name": "stderr",
     "output_type": "stream",
     "text": [
      "ic| data: array([[ -735.65      ,  -814.55544413,  -910.01103152, ...,\n",
      "                   4219.90888252,  4253.87449857,  4319.8       ],\n",
      "                 [-1337.65      , -1383.31475645, -1408.22020057, ...,\n",
      "                    438.51633238,   448.49054441,   441.8       ],\n",
      "                 [-1599.65      , -1722.48954155, -1929.64426934, ...,\n",
      "                  -2644.32320917, -2664.04240688, -2682.2       ],\n",
      "                 ...,\n",
      "                 [  120.35      ,   224.53051576,   254.91160458, ...,\n",
      "                  -5213.04813754, -5127.6469914 , -5078.2       ],\n",
      "                 [ -912.65      ,  -691.5525788 ,  -465.76747851, ...,\n",
      "                  -6867.15415473, -6774.15988539, -6719.2       ],\n",
      "                 [  820.35      ,   939.84283668,  1141.39584527, ...,\n",
      "                  -3438.93925501, -3431.62120344, -3443.2       ]])\n",
      "    data.shape: (1589, 4200)\n",
      "    data.dtype: dtype('<f8')\n"
     ]
    },
    {
     "data": {
      "text/plain": "(array([[ -735.65      ,  -814.55544413,  -910.01103152, ...,\n          4219.90888252,  4253.87449857,  4319.8       ],\n        [-1337.65      , -1383.31475645, -1408.22020057, ...,\n           438.51633238,   448.49054441,   441.8       ],\n        [-1599.65      , -1722.48954155, -1929.64426934, ...,\n         -2644.32320917, -2664.04240688, -2682.2       ],\n        ...,\n        [  120.35      ,   224.53051576,   254.91160458, ...,\n         -5213.04813754, -5127.6469914 , -5078.2       ],\n        [ -912.65      ,  -691.5525788 ,  -465.76747851, ...,\n         -6867.15415473, -6774.15988539, -6719.2       ],\n        [  820.35      ,   939.84283668,  1141.39584527, ...,\n         -3438.93925501, -3431.62120344, -3443.2       ]]),\n (1589, 4200),\n dtype('<f8'))"
     },
     "execution_count": 6,
     "metadata": {},
     "output_type": "execute_result"
    }
   ],
   "source": [
    "mat = loadmat(mats[0])\n",
    "data = mat['pm_ecg']\n",
    "ic(data, data.shape, data.dtype)\n"
   ],
   "metadata": {
    "collapsed": false,
    "pycharm": {
     "name": "#%%\n"
    }
   }
  },
  {
   "cell_type": "markdown",
   "source": [
    "#### vtdata.mat\n"
   ],
   "metadata": {
    "collapsed": false,
    "pycharm": {
     "name": "#%% md\n"
    }
   }
  },
  {
   "cell_type": "code",
   "execution_count": 7,
   "outputs": [
    {
     "name": "stderr",
     "output_type": "stream",
     "text": [
      "ic| key: 'vt_ecg'\n",
      "    i.shape: (156, 4200)\n",
      "    i[:10]: array([[  -253.65      ,   -306.77893983,   -310.32621777, ...,\n",
      "                     -8864.51805158,  -8825.59541547,  -8811.2       ],\n",
      "                   [  -869.65      ,   -919.57550143,   -967.65573066, ...,\n",
      "                    -12170.28022923, -12170.2       , -12183.2       ],\n",
      "                   [   119.35      ,    -43.12851003,   -216.31475645, ...,\n",
      "                     -7121.0252149 ,  -7082.52664756,  -7055.2       ],\n",
      "                   ...,\n",
      "                   [  -669.65      ,   -685.20014327,   -649.79613181, ...,\n",
      "                     -5018.88767908,  -4982.91633238,  -4975.2       ],\n",
      "                   [ -3569.65      ,  -3564.37206304,  -3550.69011461, ...,\n",
      "                      1568.49627507,   1591.9260745 ,   1600.8       ],\n",
      "                   [  7320.35      ,   7315.70243553,   7297.5247851 , ...,\n",
      "                      4793.20974212,   4818.60802292,   4836.8       ]])\n",
      "ic| key: 'vt_qrswidth'\n",
      "    i.shape: (1, 156)\n",
      "    i[:10]: array([[442, 363, 352, 500, 391, 439, 400, 444, 453, 426, 361, 449, 371,\n",
      "                    467, 530, 416, 431, 417, 382, 428, 437, 506, 501, 403, 559, 431,\n",
      "                    572, 530, 502, 520, 386, 542, 546, 556, 504, 466, 548, 377, 528,\n",
      "                    674, 581, 575, 431, 537, 406, 541, 508, 417, 565, 444, 475, 643,\n",
      "                    456, 513, 459, 503, 336, 566, 521, 535, 570, 436, 571, 530, 553,\n",
      "                    485, 525, 489, 473, 431, 491, 468, 431, 246, 255, 329, 367, 314,\n",
      "                    519, 399, 332, 314, 344, 538, 331, 363, 327, 349, 366, 430, 444,\n",
      "                    448, 386, 373, 350, 349, 358, 400, 343, 295, 403, 378, 297, 382,\n",
      "                    325, 346, 447, 382, 291, 283, 356, 417, 423, 482, 503, 390, 474,\n",
      "                    380, 343, 308, 516, 439, 469, 365, 337, 387, 272, 359, 321, 334,\n",
      "                    423, 340, 360, 363, 299, 412, 394, 281, 411, 436, 389, 281, 436,\n",
      "                    524, 329, 527, 513, 439, 401, 469, 392, 363, 356, 388, 425, 479]],\n",
      "                  dtype=uint16)\n",
      "ic| key: 'vtname'\n",
      "    i.shape: (156, 1)\n",
      "    i[:10]: array([[array(['42'], dtype='<U2')],\n",
      "                   [array(['42'], dtype='<U2')],\n",
      "                   [array(['42'], dtype='<U2')],\n",
      "                   [array(['42'], dtype='<U2')],\n",
      "                   [array(['42'], dtype='<U2')],\n",
      "                   [array(['42'], dtype='<U2')],\n",
      "                   [array(['42'], dtype='<U2')],\n",
      "                   [array(['42'], dtype='<U2')],\n",
      "                   [array(['45'], dtype='<U2')],\n",
      "                   [array(['45'], dtype='<U2')]], dtype=object)\n",
      "ic| key: 'vtcasename'\n",
      "    i.shape: (156, 1)\n",
      "    i[:10]: array([[array(['42_VT1.mat'], dtype='<U10')],\n",
      "                   [array(['42_VT2.mat'], dtype='<U10')],\n",
      "                   [array(['42_VT3.mat'], dtype='<U10')],\n",
      "                   [array(['42_VT4.mat'], dtype='<U10')],\n",
      "                   [array(['42_VT5.mat'], dtype='<U10')],\n",
      "                   [array(['42_VT6.mat'], dtype='<U10')],\n",
      "                   [array(['42_VT7.mat'], dtype='<U10')],\n",
      "                   [array(['42_VT8.mat'], dtype='<U10')],\n",
      "                   [array(['45_VT1.mat'], dtype='<U10')],\n",
      "                   [array(['45_VT2.mat'], dtype='<U10')]], dtype=object)\n",
      "ic| data: array([[  -253.65      ,   -306.77893983,   -310.32621777, ...,\n",
      "                   -8864.51805158,  -8825.59541547,  -8811.2       ],\n",
      "                 [  -869.65      ,   -919.57550143,   -967.65573066, ...,\n",
      "                  -12170.28022923, -12170.2       , -12183.2       ],\n",
      "                 [   119.35      ,    -43.12851003,   -216.31475645, ...,\n",
      "                   -7121.0252149 ,  -7082.52664756,  -7055.2       ],\n",
      "                 ...,\n",
      "                 [  1667.35      ,   1611.06919771,   1499.40157593, ...,\n",
      "                   -8046.44641834,  -8019.10544413,  -7996.2       ],\n",
      "                 [   880.35      ,    911.47320917,   1058.7769341 , ...,\n",
      "                   -9649.53810888,  -9642.68424069,  -9593.2       ],\n",
      "                 [   900.35      ,    970.7969914 ,   1079.41876791, ...,\n",
      "                   -8490.26017192,  -8502.33753582,  -8489.2       ]])\n",
      "    data.shape: (156, 4200)\n",
      "    data.dtype: dtype('<f8')\n"
     ]
    },
    {
     "data": {
      "text/plain": "<Figure size 1296x432 with 1 Axes>",
      "image/png": "[encoded data removed]"
     },
     "metadata": {
      "needs_background": "light"
     },
     "output_type": "display_data"
    }
   ],
   "source": [
    "mat = loadmat(mats[2])\n",
    "\n",
    "for key in mat.keys():\n",
    "    i = mat[key]\n",
    "    if type(i) is np.ndarray:\n",
    "        ic(key, i.shape, i[:10])\n",
    "\n",
    "data = mat['vt_ecg']\n",
    "ic(data, data.shape, data.dtype)\n",
    "\n",
    "eg = data[0]\n",
    "# plt.plot(np.arange(eg.size), eg)\n",
    "plot_single(eg, 'Example')\n"
   ],
   "metadata": {
    "collapsed": false,
    "pycharm": {
     "name": "#%%\n"
    }
   }
  },
  {
   "cell_type": "markdown",
   "source": [
    "## Match the .MAT files data with studies\n",
    "\n",
    "### Number of patients\n"
   ],
   "metadata": {
    "collapsed": false,
    "pycharm": {
     "name": "#%% md\n"
    }
   }
  },
  {
   "cell_type": "code",
   "execution_count": 8,
   "outputs": [
    {
     "name": "stderr",
     "output_type": "stream",
     "text": [
      "ic| dnm: 'daePm'\n",
      "    d.path: 'MM_classifier/alldata.mat'\n",
      "    d.meta: {'dim_ecg': 4200, 'n': 1589, 'num_pat': 18}\n",
      "ic| dnm: 'daePmName'\n",
      "    d.path: 'MM_classifier/allname.mat'\n",
      "    d.meta: {'dim_ecg': None, 'n': 1589, 'num_pat': 18}\n",
      "ic| dnm: 'daePmFw'\n",
      "    d.path: 'MM_classifier/freewall.mat'\n",
      "    d.meta: {'dim_ecg': None, 'n': 990, 'num_pat': 8}\n",
      "ic| dnm: 'daeVt'\n",
      "    d.path: 'MM_classifier/vtdata.mat'\n",
      "    d.meta: {'dim_ecg': 4200, 'n': 156, 'num_pat': 18}\n",
      "ic| dnm: 'daeRaw'\n",
      "    d.path: 'MM_classifier/ecg_nonnorm.mat'\n",
      "    d.meta: {'dim_ecg': 5784, 'n': 12, 'num_pat': {'pm': 8, 'pvc': 3, 'vt': 7}}\n",
      "ic| dnm: 'daeRawCnm'\n",
      "    d.path: 'MM_classifier/filename.mat'\n",
      "    d.meta: {'dim_ecg': None, 'n': 503, 'num_pat': None}\n",
      "ic| dnm: 'daePmCtrl'\n",
      "    d.path: 'MM_classifier/allcontrol.mat'\n",
      "    d.meta: {'dim_ecg': 4200, 'n': 68, 'num_pat': 7}\n",
      "ic| dnm: 'daePvcCtrl'\n",
      "    d.path: 'MM_classifier/allcontrol.mat'\n",
      "    d.meta: {'dim_ecg': 4200, 'n': 7, 'num_pat': 7}\n",
      "ic| dnm: 'daePmSlope'\n",
      "    d.path: 'MM_classifier/pm_slopes.mat'\n",
      "    d.meta: {'dim_ecg': 108, 'n': 1589, 'num_pat': 18}\n",
      "ic| dnm: 'daeVtSlope'\n",
      "    d.path: 'MM_classifier/vtslope.mat'\n",
      "    d.meta: {'dim_ecg': 108, 'n': 156, 'num_pat': 18}\n",
      "ic| dnm: 'daeVtSlope32'\n",
      "    d.path: 'MM_classifier/vt_slopefea32_1234.mat'\n",
      "    d.meta: {'dim_ecg': 32, 'n': 53, 'num_pat': 28}\n",
      "ic| dnm: 'daeSup'\n",
      "    d.path: 'MM_classifier/Superior.mat'\n",
      "    d.meta: {'dim_ecg': 108, 'n': 143, 'num_pat': 8}\n",
      "ic| dnm: 'daeInf'\n",
      "    d.path: 'MM_classifier/inferior.mat'\n",
      "    d.meta: {'dim_ecg': 108, 'n': 57, 'num_pat': 5}\n",
      "ic| dnm: 'daeSimul'\n",
      "    d.path: 'MM_classifier/simul_123456789.mat'\n",
      "    d.meta: {'dim_ecg': 72, 'n': 3521, 'num_pat': 46}\n",
      "ic| dnm: 'daePmLst'\n",
      "    d.path: 'MM_classifier/pacemaplist_matlab_dyj.mat'\n",
      "    d.meta: {'dim_ecg': None, 'n': 4412, 'num_pat': 62}\n",
      "ic| dnm: 'daeVtLst'\n",
      "    d.path: 'MM_classifier/vtlist_matlab_dyj.mat'\n",
      "    d.meta: {'dim_ecg': None, 'n': 53, 'num_pat': 28}\n",
      "ic| dnm: 'daeLv'\n",
      "    d.path: 'MM_classifier/lvsam.mat'\n",
      "    d.meta: {'dim_ecg': 108, 'n': 24, 'num_pat': 24}\n",
      "ic| dnm: 'daeRv'\n",
      "    d.path: 'MM_classifier/rvsam.mat'\n",
      "    d.meta: {'dim_ecg': 108, 'n': 24, 'num_pat': 24}\n"
     ]
    }
   ],
   "source": [
    "dg = DataGetter()\n",
    "\n",
    "\n",
    "# ic(get_num_patient('daeVt'))\n",
    "# ic(get_num_patient('daePm'))\n",
    "#\n",
    "# daeRaw = dg('daeRaw')\n",
    "#\n",
    "#\n",
    "# for key in ['vt_case_name', 'pvc_case_name', 'pm_case_name']:\n",
    "#     nms = get_patient_names(daeRaw[key])\n",
    "#     ic(key, np.unique(nms).size)\n",
    "#\n",
    "# ic(get_num_patient('daePmCtrl'))\n",
    "# ic(get_num_patient('daePvcCtrl'))\n",
    "# ic(get_num_patient('daePmSlope'))\n",
    "# ic(get_num_patient('daeVtSlope'))\n",
    "# ic(get_num_patient('daeVtSlope32', k='pat_num'))\n",
    "#\n",
    "# for key in ['daeSup.case_name', 'daeInf.case_name']:\n",
    "#     ic(np.unique(get_patient_names(dg(key))).size)\n",
    "#\n",
    "# ic(get_num_patient('daeSimul', k='pat_num'))\n",
    "# ic(get_num_patient('daePmLst', k='pat_num'))\n",
    "# ic(get_num_patient('daeVtLst', k='pat_num'))\n",
    "#\n",
    "# ic(get_num_patient('daeLv'))\n",
    "# ic(get_num_patient('daeRv'))\n",
    "#\n",
    "# for key in ['daePmName.case_name', 'daePmFw.case_name']:\n",
    "#     ic(np.unique(get_patient_names(dg(key))).size)\n",
    "\n",
    "for dnm in dg.DSETS:\n",
    "    d = dg(dnm)\n",
    "    ic(dnm, d.path, d.meta)\n"
   ],
   "metadata": {
    "collapsed": false,
    "pycharm": {
     "name": "#%%\n"
    }
   }
  }
 ],
 "metadata": {
  "kernelspec": {
   "display_name": "Python 3",
   "language": "python",
   "name": "python3"
  },
  "language_info": {
   "codemirror_mode": {
    "name": "ipython",
    "version": 2
   },
   "file_extension": ".py",
   "mimetype": "text/x-python",
   "name": "python",
   "nbconvert_exporter": "python",
   "pygments_lexer": "ipython2",
   "version": "2.7.6"
  }
 },
 "nbformat": 4,
 "nbformat_minor": 0
}