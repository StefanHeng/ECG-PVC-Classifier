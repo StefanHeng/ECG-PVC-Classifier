{
 "cells": [
  {
   "cell_type": "markdown",
   "source": [
    "# Explore dataset directory\n",
    "\n",
    "Stefan/Yuzhao Heng\n",
    "\n",
    "Since Fri. Sep. 10th, 2021\n",
    "\n",
    "Explore the PVC dataset, understand what's contained in the files.\n",
    "\n",
    "## Setup\n"
   ],
   "metadata": {
    "collapsed": false
   }
  },
  {
   "cell_type": "code",
   "execution_count": 1,
   "metadata": {
    "collapsed": true,
    "pycharm": {
     "name": "#%%\n"
    }
   },
   "outputs": [],
   "source": [
    "# import numpy as np\n",
    "import pandas as pd\n",
    "from scipy.io import loadmat\n",
    "\n",
    "import re\n",
    "import os\n",
    "import glob\n",
    "from sys import getsizeof\n",
    "\n",
    "from icecream import ic\n",
    "\n",
    "# import matplotlib.pyplot as plt\n",
    "\n",
    "from util import *\n",
    "from ecg_data import DataGetter\n",
    "\n",
    "os.chdir('../../PVC_DATA')\n"
   ]
  },
  {
   "cell_type": "markdown",
   "source": [
    "## Check spreadsheets content\n",
    "\n",
    "### `Data for Dae and Weiqing_myver`\n",
    "\n"
   ],
   "metadata": {
    "collapsed": false
   }
  },
  {
   "cell_type": "code",
   "execution_count": 2,
   "outputs": [],
   "source": [
    "fnm = 'Data for Dae and Weiqing_myver'\n",
    "sheet_csv = pd.read_csv(f'{fnm}.csv')\n",
    "sheet_exe = pd.read_excel(f'{fnm}.xls')\n",
    "\n",
    "try:\n",
    "    # ic(sheet_csv, sheet_exe)\n",
    "    pd.testing.assert_frame_equal(sheet_csv, sheet_exe)  # Not equal\n",
    "except:\n",
    "    ...\n"
   ],
   "metadata": {
    "collapsed": false,
    "pycharm": {
     "name": "#%%\n"
    }
   }
  },
  {
   "cell_type": "markdown",
   "source": [
    "### Convert an XLS to CSV\n"
   ],
   "metadata": {
    "collapsed": false
   }
  },
  {
   "cell_type": "code",
   "execution_count": 3,
   "outputs": [],
   "source": [
    "try:\n",
    "    fnm = 'Data sum'\n",
    "    sheet = pd.read_excel(f'{fnm}.xls')\n",
    "    sheet.to_csv()\n",
    "except:\n",
    "    ..."
   ],
   "metadata": {
    "collapsed": false,
    "pycharm": {
     "name": "#%%\n"
    }
   }
  },
  {
   "cell_type": "markdown",
   "source": [
    "`MM_classifier/inf`\n"
   ],
   "metadata": {
    "collapsed": false
   }
  },
  {
   "cell_type": "code",
   "source": [
    "df = pd.read_csv('MM_classifier/inf.csv')\n",
    "ic(df.iloc[0])\n"
   ],
   "metadata": {
    "collapsed": false,
    "pycharm": {
     "name": "#%%\n"
    }
   },
   "execution_count": 4,
   "outputs": [
    {
     "name": "stderr",
     "output_type": "stream",
     "text": [
      "ic| df.iloc[0]: Unnamed: 0                  1\n",
      "                infna           46_144 LV.mat\n",
      "                Unnamed: 2          63.136364\n",
      "                Unnamed: 3         -30.681818\n",
      "                Unnamed: 4        -313.886364\n",
      "                                    ...      \n",
      "                Unnamed: 105        62.704545\n",
      "                Unnamed: 106         5.090909\n",
      "                Unnamed: 107        27.431818\n",
      "                Unnamed: 108        17.795455\n",
      "                Unnamed: 109         19.97619\n",
      "                Name: 0, Length: 110, dtype: object\n"
     ]
    },
    {
     "data": {
      "text/plain": "Unnamed: 0                  1\ninfna           46_144 LV.mat\nUnnamed: 2          63.136364\nUnnamed: 3         -30.681818\nUnnamed: 4        -313.886364\n                    ...      \nUnnamed: 105        62.704545\nUnnamed: 106         5.090909\nUnnamed: 107        27.431818\nUnnamed: 108        17.795455\nUnnamed: 109         19.97619\nName: 0, Length: 110, dtype: object"
     },
     "execution_count": 4,
     "metadata": {},
     "output_type": "execute_result"
    }
   ]
  },
  {
   "cell_type": "markdown",
   "source": [
    "## Explore .MAT files\n",
    "\n",
    "### Find all .MAT files\n"
   ],
   "metadata": {
    "collapsed": false
   }
  },
  {
   "cell_type": "code",
   "execution_count": 5,
   "outputs": [
    {
     "name": "stderr",
     "output_type": "stream",
     "text": [
      "ic| len(mats): 17\n",
      "ic| nm: 'MM_classifier/alldata.mat', sz(nm): '47.4MiB'\n",
      "ic| nm: 'MM_classifier/ecg_nonnorm.mat', sz(nm): '9.5MiB'\n",
      "ic| nm: 'MM_classifier/vtdata.mat', sz(nm): '4.3MiB'\n",
      "ic| nm: 'MM_classifier/allcontrol.mat', sz(nm): '2.0MiB'\n",
      "ic| nm: 'MM_classifier/simul_123456789.mat', sz(nm): '1.3MiB'\n",
      "ic| nm: 'MM_classifier/pm_slopes.mat', sz(nm): '874.7KiB'\n",
      "ic| nm: 'MM_classifier/vtslope.mat', sz(nm): '87.8KiB'\n",
      "ic| nm: 'MM_classifier/Superior.mat', sz(nm): '78.7KiB'\n",
      "ic| nm: 'MM_classifier/pacemaplist_matlab_dyj.mat', sz(nm): '32.8KiB'\n",
      "ic| nm: 'MM_classifier/inferior.mat', sz(nm): '30.8KiB'\n",
      "ic| nm: 'MM_classifier/lvsam.mat', sz(nm): '13.4KiB'\n",
      "ic| nm: 'MM_classifier/rvsam.mat', sz(nm): '13.2KiB'\n",
      "ic| nm: 'MM_classifier/vt_slopefea32_1234.mat', sz(nm): '9.6KiB'\n",
      "ic| nm: 'MM_classifier/allname.mat', sz(nm): '7.4KiB'\n",
      "ic| nm: 'MM_classifier/freewall.mat', sz(nm): '4.7KiB'\n",
      "ic| nm: 'MM_classifier/filename.mat', sz(nm): '2.9KiB'\n",
      "ic| nm: 'MM_classifier/vtlist_matlab_dyj.mat', sz(nm): '1.1KiB'\n"
     ]
    }
   ],
   "source": [
    "def sz(x):\n",
    "    return sizeof_fmt(os.path.getsize(x))\n",
    "\n",
    "mats = glob.glob('**/*.mat', recursive=True)\n",
    "mats.sort(key=os.path.getsize, reverse=True)\n",
    "\n",
    "ic(len(mats))\n",
    "\n",
    "for nm in mats:\n",
    "    ic(nm, sz(nm))\n",
    "# for fnm in\n",
    "#     ic(fnm, sz(fnm))\n"
   ],
   "metadata": {
    "collapsed": false,
    "pycharm": {
     "name": "#%%\n"
    }
   }
  },
  {
   "cell_type": "markdown",
   "source": [
    "### Which ones contain the actual annotated signals?\n"
   ],
   "metadata": {
    "collapsed": false,
    "pycharm": {
     "name": "#%% md\n"
    }
   }
  },
  {
   "cell_type": "code",
   "execution_count": 6,
   "outputs": [
    {
     "name": "stderr",
     "output_type": "stream",
     "text": [
      "ic| candidates: ['MM_classifier/alldata.mat',\n",
      "                 'MM_classifier/ecg_nonnorm.mat',\n",
      "                 'MM_classifier/vtdata.mat',\n",
      "                 'MM_classifier/allcontrol.mat']\n",
      "ic| f: 'MM_classifier/alldata.mat'\n",
      "ic| key: 'pm_ecg', i.shape: (1589, 4200), s: '50.9MiB'\n",
      "ic| key: 'pm_epiendo', i.shape: (1589, 1), s: '1.6KiB'\n",
      "ic| key: 'pm_qrswidth', i.shape: (1589, 1), s: '3.1KiB'\n",
      "ic| key: 'vt_ecg', i.shape: (156, 4200), s: '5.0MiB'\n",
      "ic| key: 'vt_qrswidth', i.shape: (1, 156), s: '312.0B'\n",
      "ic| key: 'vtname', i.shape: (156, 1), s: '1.2KiB'\n",
      "ic| key: 'pmname', i.shape: (1589, 1), s: '12.4KiB'\n",
      "ic| key: 'vtcasename', i.shape: (156, 1), s: '1.2KiB'\n",
      "ic| key: 'pmcasename', i.shape: (1589, 1), s: '12.4KiB'\n",
      "ic| '\\n': '\n",
      "           '\n",
      "ic| f: 'MM_classifier/ecg_nonnorm.mat'\n",
      "ic| key: 'pm_ecg', i.shape: (503, 7644), s: '29.3MiB'\n",
      "ic| key: 'vt_ecg', i.shape: (55, 6336), s: '2.7MiB'\n",
      "ic| key: 'pvc_ecg', i.shape: (12, 5784), s: '542.2KiB'\n",
      "ic| '\\n': '\n",
      "           '\n",
      "ic| f: 'MM_classifier/vtdata.mat'\n",
      "ic| key: 'vt_ecg', i.shape: (156, 4200), s: '5.0MiB'\n",
      "ic| key: 'vt_qrswidth', i.shape: (1, 156), s: '312.0B'\n",
      "ic| key: 'vtname', i.shape: (156, 1), s: '1.2KiB'\n",
      "ic| key: 'vtcasename', i.shape: (156, 1), s: '1.2KiB'\n",
      "ic| '\\n': '\n",
      "           '\n",
      "ic| f: 'MM_classifier/allcontrol.mat'\n",
      "ic| key: 'pm_ecg', i.shape: (68, 4200), s: '2.2MiB'\n",
      "ic| key: 'pm_epiendo', i.shape: (68, 1), s: '68.0B'\n",
      "ic| key: 'pm_qrswidth', i.shape: (68, 1), s: '136.0B'\n",
      "ic| key: 'pvc_ecg', i.shape: (7, 4200), s: '229.7KiB'\n",
      "ic| key: 'pvc_qrswidth', i.shape: (7, 1), s: '14.0B'\n",
      "ic| key: 'pvcname', i.shape: (7, 1), s: '56.0B'\n",
      "ic| key: 'pmname', i.shape: (68, 1), s: '544.0B'\n",
      "ic| key: 'pvccasename', i.shape: (7, 1), s: '56.0B'\n",
      "ic| key: 'pmcasename', i.shape: (68, 1), s: '544.0B'\n",
      "ic| '\\n': '\n",
      "           '\n"
     ]
    }
   ],
   "source": [
    "def sz(x):\n",
    "    return sizeof_fmt(getsizeof(x))\n",
    "\n",
    "candidates = mats[:4]\n",
    "ic(candidates)\n",
    "\n",
    "for f in candidates:\n",
    "    ic(f)\n",
    "    mat = loadmat(f)\n",
    "\n",
    "    for key in mat.keys():\n",
    "        i = mat[key]\n",
    "        if type(i) is np.ndarray:\n",
    "            s = sizeof_fmt(i.nbytes)\n",
    "            ic(key, i.shape, s)\n",
    "\n",
    "    ic('\\n')\n"
   ],
   "metadata": {
    "collapsed": false,
    "pycharm": {
     "name": "#%%\n"
    }
   }
  },
  {
   "cell_type": "markdown",
   "source": [
    "#### alldata.mat\n"
   ],
   "metadata": {
    "collapsed": false
   }
  },
  {
   "cell_type": "code",
   "execution_count": 7,
   "outputs": [
    {
     "name": "stderr",
     "output_type": "stream",
     "text": [
      "ic| data: array([[ -735.65      ,  -814.55544413,  -910.01103152, ...,\n",
      "                   4219.90888252,  4253.87449857,  4319.8       ],\n",
      "                 [-1337.65      , -1383.31475645, -1408.22020057, ...,\n",
      "                    438.51633238,   448.49054441,   441.8       ],\n",
      "                 [-1599.65      , -1722.48954155, -1929.64426934, ...,\n",
      "                  -2644.32320917, -2664.04240688, -2682.2       ],\n",
      "                 ...,\n",
      "                 [  120.35      ,   224.53051576,   254.91160458, ...,\n",
      "                  -5213.04813754, -5127.6469914 , -5078.2       ],\n",
      "                 [ -912.65      ,  -691.5525788 ,  -465.76747851, ...,\n",
      "                  -6867.15415473, -6774.15988539, -6719.2       ],\n",
      "                 [  820.35      ,   939.84283668,  1141.39584527, ...,\n",
      "                  -3438.93925501, -3431.62120344, -3443.2       ]])\n",
      "    data.shape: (1589, 4200)\n",
      "    data.dtype: dtype('<f8')\n"
     ]
    },
    {
     "data": {
      "text/plain": "(array([[ -735.65      ,  -814.55544413,  -910.01103152, ...,\n          4219.90888252,  4253.87449857,  4319.8       ],\n        [-1337.65      , -1383.31475645, -1408.22020057, ...,\n           438.51633238,   448.49054441,   441.8       ],\n        [-1599.65      , -1722.48954155, -1929.64426934, ...,\n         -2644.32320917, -2664.04240688, -2682.2       ],\n        ...,\n        [  120.35      ,   224.53051576,   254.91160458, ...,\n         -5213.04813754, -5127.6469914 , -5078.2       ],\n        [ -912.65      ,  -691.5525788 ,  -465.76747851, ...,\n         -6867.15415473, -6774.15988539, -6719.2       ],\n        [  820.35      ,   939.84283668,  1141.39584527, ...,\n         -3438.93925501, -3431.62120344, -3443.2       ]]),\n (1589, 4200),\n dtype('<f8'))"
     },
     "execution_count": 7,
     "metadata": {},
     "output_type": "execute_result"
    }
   ],
   "source": [
    "mat = loadmat(mats[0])\n",
    "data = mat['pm_ecg']\n",
    "ic(data, data.shape, data.dtype)\n"
   ],
   "metadata": {
    "collapsed": false,
    "pycharm": {
     "name": "#%%\n"
    }
   }
  },
  {
   "cell_type": "markdown",
   "source": [
    "#### vtdata.mat\n",
    "\n",
    "\n",
    "\n",
    "\n",
    "mat = loadmat(mats[2])\n",
    "\n",
    "for key in mat.keys():\n",
    "    i = mat[key]\n",
    "    if type(i) is np.ndarray:\n",
    "        ic(key, i.shape, i[:10])\n"
   ],
   "metadata": {
    "collapsed": false,
    "pycharm": {
     "name": "#%% md\n"
    }
   }
  },
  {
   "cell_type": "markdown",
   "source": [
    "##### Plot a VT signal\n"
   ],
   "metadata": {
    "collapsed": false,
    "pycharm": {
     "name": "#%% md\n"
    }
   }
  },
  {
   "cell_type": "code",
   "execution_count": 8,
   "outputs": [
    {
     "name": "stderr",
     "output_type": "stream",
     "text": [
      "ic| data: array([[  -253.65      ,   -306.77893983,   -310.32621777, ...,\n",
      "                   -8864.51805158,  -8825.59541547,  -8811.2       ],\n",
      "                 [  -869.65      ,   -919.57550143,   -967.65573066, ...,\n",
      "                  -12170.28022923, -12170.2       , -12183.2       ],\n",
      "                 [   119.35      ,    -43.12851003,   -216.31475645, ...,\n",
      "                   -7121.0252149 ,  -7082.52664756,  -7055.2       ],\n",
      "                 ...,\n",
      "                 [  1667.35      ,   1611.06919771,   1499.40157593, ...,\n",
      "                   -8046.44641834,  -8019.10544413,  -7996.2       ],\n",
      "                 [   880.35      ,    911.47320917,   1058.7769341 , ...,\n",
      "                   -9649.53810888,  -9642.68424069,  -9593.2       ],\n",
      "                 [   900.35      ,    970.7969914 ,   1079.41876791, ...,\n",
      "                   -8490.26017192,  -8502.33753582,  -8489.2       ]])\n",
      "    data.shape: (156, 4200)\n",
      "    data.dtype: dtype('<f8')\n"
     ]
    },
    {
     "data": {
      "text/plain": "<Figure size 360x936 with 1 Axes>",
      "image/png": "[encoded data removed]"
     },
     "metadata": {
      "needs_background": "light"
     },
     "output_type": "display_data"
    }
   ],
   "source": [
    "data = mat['vt_ecg']\n",
    "ic(data, data.shape, data.dtype)\n",
    "\n",
    "eg = data[0]\n",
    "# plt.plot(np.arange(eg.size), eg)\n",
    "plot_ecg(eg, 'Example')\n"
   ],
   "metadata": {
    "collapsed": false,
    "pycharm": {
     "name": "#%%\n"
    }
   }
  },
  {
   "cell_type": "markdown",
   "source": [
    "## Match the .MAT files data with studies\n",
    "\n",
    "### An overview of contents in each file & some extracted meta-attributes\n"
   ],
   "metadata": {
    "collapsed": false,
    "pycharm": {
     "name": "#%% md\n"
    }
   }
  },
  {
   "cell_type": "code",
   "execution_count": 9,
   "outputs": [
    {
     "name": "stderr",
     "output_type": "stream",
     "text": [
      "ic| self.nm: 'daePm', self.path: 'MM_classifier/alldata.mat'\n",
      "ic| k: 'ecg'\n",
      "    self.key_map[k]: 'pm_ecg'\n",
      "    s: (1589, 4200)\n",
      "    view[:n]: array([ -735.65      ,  -814.55544413,  -910.01103152,  -922.01676218,\n",
      "                      -842.95945559,  -701.94799427,  -597.8734957 ,  -605.7474212 ,\n",
      "                      -717.73309456,  -873.65859599,  -963.73309456,  -952.26604585,\n",
      "                      -837.63853868,  -703.34054441,  -669.84484241,  -775.03108883,\n",
      "                      -990.72163324, -1209.54684814, -1334.6987106 , -1356.2030086 ,\n",
      "                     -1317.58409742, -1316.51819484, -1428.33194842, -1631.81332378,\n",
      "                     -1850.88495702, -1992.4265043 , -2002.37206304, -1912.79326648,\n",
      "                     -1805.10845272, -1760.28037249])\n",
      "ic| k: 'origin'\n",
      "    self.key_map[k]: 'pm_epiendo'\n",
      "    s: (1589,)\n",
      "    view[:n]: array([0, 1], dtype=uint8)\n",
      "ic| k: 'name'\n",
      "    self.key_map[k]: 'pmname'\n",
      "    s: (1589,)\n",
      "    view[:n]: array(['42', '45', '46', '47', '49', '59', '61', '62', '63', '65'],\n",
      "                    dtype='<U2')\n",
      "ic| k: 'case_name'\n",
      "    self.key_map[k]: 'pmcasename'\n",
      "    s: (1589,)\n",
      "    view[:n]: array(['42_101 Epi', '42_102 Epi', '42_103 Epi', '42_11 Epi',\n",
      "                     '42_110 Epi', '42_111 Epi', '42_113 Epi', '42_119 Epi',\n",
      "                     '42_12 Epi', '42_123 Epi'], dtype='<U17')\n",
      "ic| k: 'qrs_width'\n",
      "    self.key_map[k]: 'pm_qrswidth'\n",
      "    s: (1589,)\n",
      "    view[:n]: array([193, 195, 208, 211, 213, 216, 218, 219, 221, 225, 229, 230, 231,\n",
      "                     234, 235, 240, 241, 243, 244, 246, 247, 249, 251, 255, 256, 257,\n",
      "                     258, 259, 262, 263], dtype=uint16)\n",
      "ic| '\\n': '\n",
      "           '\n",
      "ic| self.nm: 'daePmName', self.path: 'MM_classifier/allname.mat'\n",
      "ic| k: 'case_name'\n",
      "    self.key_map[k]: 'pmcasename'\n",
      "    s: (1589,)\n",
      "    view[:n]: array(['42_101 Epi', '42_102 Epi', '42_103 Epi', '42_11 Epi',\n",
      "                     '42_110 Epi', '42_111 Epi', '42_113 Epi', '42_119 Epi',\n",
      "                     '42_12 Epi', '42_123 Epi'], dtype='<U17')\n",
      "ic| '\\n': '\n",
      "           '\n",
      "ic| self.nm: 'daePmFw', self.path: 'MM_classifier/freewall.mat'\n",
      "ic| k: 'case_name'\n",
      "    self.key_map[k]: 'pmcasename1'\n",
      "    s: (990,)\n",
      "    view[:n]: array(['45_113 Epi', '45_116 Epi', '45_118 Epi', '45_122 Epi',\n",
      "                     '45_123 Epi', '45_131 Epi', '45_134 Epi', '45_136 Epi',\n",
      "                     '45_139 Epi', '45_141 Epi'], dtype='<U17')\n",
      "ic| '\\n': '\n",
      "           '\n",
      "ic| self.nm: 'daeVt', self.path: 'MM_classifier/vtdata.mat'\n",
      "ic| k: 'ecg'\n",
      "    self.key_map[k]: 'vt_ecg'\n",
      "    s: (156, 4200)\n",
      "    view[:n]: array([-253.65      , -306.77893983, -310.32621777, -237.89355301,\n",
      "                     -102.9508596 ,   64.2239255 ,  220.61934097,  330.38438395,\n",
      "                      364.37292264,  333.02908309,  271.4474212 ,  232.93166189,\n",
      "                      265.01475645,  350.87722063,  462.57063037,  564.12936963,\n",
      "                      599.24111748,  570.02621777,  491.99756447,  394.38724928,\n",
      "                      353.97464183,  409.02908309,  562.09498567,  784.10644699,\n",
      "                     1020.54770774, 1211.73395415, 1323.12077364, 1349.57063037,\n",
      "                     1342.65945559, 1339.0777937 ])\n",
      "ic| k: 'name'\n",
      "    self.key_map[k]: 'vtname'\n",
      "    s: (156,)\n",
      "    view[:n]: array(['42', '45', '46', '47', '49', '59', '61', '62', '63', '65'],\n",
      "                    dtype='<U2')\n",
      "ic| k: 'case_name'\n",
      "    self.key_map[k]: 'vtcasename'\n",
      "    s: (156,)\n",
      "    view[:n]: array(['42_VT1', '42_VT2', '42_VT3', '42_VT4', '42_VT5', '42_VT6',\n",
      "                     '42_VT7', '42_VT8', '45_VT1', '45_VT2'], dtype='<U10')\n",
      "ic| k: 'qrs_width'\n",
      "    self.key_map[k]: 'vt_qrswidth'\n",
      "    s: (156,)\n",
      "    view[:n]: array([246, 255, 272, 281, 283, 291, 295, 297, 299, 308, 314, 321, 325,\n",
      "                     327, 329, 331, 332, 334, 336, 337, 340, 343, 344, 346, 349, 350,\n",
      "                     352, 356, 358, 359], dtype=uint16)\n",
      "ic| '\\n': '\n",
      "           '\n",
      "ic| self.nm: 'daeRaw', self.path: 'MM_classifier/ecg_nonnorm.mat'\n",
      "ic| k: 'pm'\n",
      "    self.key_map[k]: 'pm_ecg'\n",
      "    s: (503, 7644)\n",
      "    view[:n]: array([-435.65, -161.65,  100.35,  351.35,  580.35,  780.35,  951.35,\n",
      "                     1091.35, 1192.35, 1260.35, 1316.35, 1369.35, 1422.35, 1469.35,\n",
      "                     1499.35, 1519.35, 1539.35, 1561.35, 1583.35, 1603.35, 1618.35,\n",
      "                     1630.35, 1640.35, 1649.35, 1662.35, 1678.35, 1700.35, 1729.35,\n",
      "                     1763.35, 1802.35])\n",
      "ic| k: 'vt'\n",
      "    self.key_map[k]: 'vt_ecg'\n",
      "    s: (55, 6336)\n",
      "    view[:n]: array([-8903.65, -8831.65, -8747.65, -8667.65, -8586.65, -8509.65,\n",
      "                     -8443.65, -8390.65, -8347.65, -8308.65, -8274.65, -8245.65,\n",
      "                     -8216.65, -8182.65, -8147.65, -8110.65, -8076.65, -8046.65,\n",
      "                     -8020.65, -7992.65, -7962.65, -7936.65, -7909.65, -7886.65,\n",
      "                     -7863.65, -7830.65, -7783.65, -7729.65, -7664.65, -7595.65])\n",
      "ic| k: 'pvc'\n",
      "    self.key_map[k]: 'pvc_ecg'\n",
      "    s: (12, 5784)\n",
      "    view[:n]: array([-478.65, -460.65, -440.65, -424.65, -414.65, -416.65, -423.65,\n",
      "                     -422.65, -413.65, -396.65, -380.65, -371.65, -370.65, -378.65,\n",
      "                     -398.65, -425.65, -446.65, -449.65, -443.65, -432.65, -424.65,\n",
      "                     -422.65, -416.65, -412.65, -426.65, -458.65, -492.65, -524.65,\n",
      "                     -551.65, -570.65])\n",
      "ic| k: 'pm_width'\n",
      "    s: (503,)\n",
      "    view[:n]: array([2928, 3000, 3072, 3084, 3108, 3192, 3348, 3372, 3408, 3444, 3468,\n",
      "                     3480, 3492, 3516, 3552, 3576, 3588, 3600, 3612, 3648, 3672, 3684,\n",
      "                     3696, 3732, 3768, 3780, 3792, 3804, 3828, 3852])\n",
      "ic| k: 'vt_width'\n",
      "    s: (55,)\n",
      "    view[:n]: array([3276, 3384, 3408, 3504, 3552, 3576, 3600, 3708, 3960, 4020, 4056,\n",
      "                     4092, 4128, 4164, 4284, 4320, 4332, 4368, 4392, 4548, 4572, 4596,\n",
      "                     4656, 4668, 4680, 4692, 4716, 4740, 4824, 4848])\n",
      "ic| k: 'pvc_width'\n",
      "    s: (12,)\n",
      "    view[:n]: array([3132, 3480, 3576, 3924, 3948, 4128, 4452, 4488, 4572, 4608, 4668,\n",
      "                     5784])\n",
      "ic| k: 'vt_case_name'\n",
      "    s: (55,)\n",
      "    view[:n]: array(['66_VT1', '67_VT1', '67_VT1_2', '67_VT2', '67_VT2_2', '67_VT3',\n",
      "                     '67_VT4', '67_VT5', '67_VT6', '67_VT7'], dtype='<U8')\n",
      "ic| k: 'pvc_case_name'\n",
      "    s: (12,)\n",
      "    view[:n]: array(['66_PVC1', '66_PVC2', '66_PVC3', '66_PVC4', '66_PVC5', '67_PVC1',\n",
      "                     '67_PVC2', '67_PVC3', '67_PVC4', '67_PVC5'], dtype='<U7')\n",
      "ic| k: 'pm_case_name'\n",
      "    s: (503,)\n",
      "    view[:n]: array(['66_15 LV', '66_23 LV', '66_24 CS', '66_26 LV', '66_28 LV',\n",
      "                     '66_29 LV', '66_33 LV', '66_41 RV', '66_42 RV', '66_43 RV'],\n",
      "                    dtype='<U11')\n",
      "ic| '\\n': '\n",
      "           '\n",
      "ic| self.nm: 'daeRawCnm', self.path: 'MM_classifier/filename.mat'\n",
      "ic| k: 'vt'\n",
      "    self.key_map[k]: 'vtcasename'\n",
      "    s: (55,)\n",
      "    view[:n]: array(['66_VT1', '67_VT1', '67_VT1_2', '67_VT2', '67_VT2_2', '67_VT3',\n",
      "                     '67_VT4', '67_VT5', '67_VT6', '67_VT7'], dtype='<U8')\n",
      "ic| k: 'pvc'\n",
      "    self.key_map[k]: 'pvccasename'\n",
      "    s: (12,)\n",
      "    view[:n]: array(['66_PVC1', '66_PVC2', '66_PVC3', '66_PVC4', '66_PVC5', '67_PVC1',\n",
      "                     '67_PVC2', '67_PVC3', '67_PVC4', '67_PVC5'], dtype='<U7')\n",
      "ic| k: 'pm'\n",
      "    self.key_map[k]: 'pmcasename'\n",
      "    s: (503,)\n",
      "    view[:n]: array(['66_15 LV', '66_23 LV', '66_24 CS', '66_26 LV', '66_28 LV',\n",
      "                     '66_29 LV', '66_33 LV', '66_41 RV', '66_42 RV', '66_43 RV'],\n",
      "                    dtype='<U11')\n",
      "ic| '\\n': '\n",
      "           '\n",
      "ic| self.nm: 'daePmCtrl', self.path: 'MM_classifier/allcontrol.mat'\n",
      "ic| k: 'ecg'\n",
      "    self.key_map[k]: 'pm_ecg'\n",
      "    s: (68, 4200)\n",
      "    view[:n]: array([-1762.65      , -1740.77320917, -1705.84484241, -1670.0969914 ,\n",
      "                     -1637.38065903, -1617.13424069, -1615.50673352, -1627.81618911,\n",
      "                     -1638.26891117, -1636.24025788, -1610.04541547, -1557.36060172,\n",
      "                     -1481.7273639 , -1391.14283668, -1301.04541547, -IOPub message rate exceeded.\n",
      "The notebook server will temporarily stop sending output\n",
      "to the client in order to avoid crashing it.\n",
      "To change this limit, set the config variable\n",
      "`--NotebookApp.iopub_msg_rate_limit`.\n",
      "\n",
      "Current values:\n",
      "NotebookApp.iopub_msg_rate_limit=1000.0 (msgs/sec)\n",
      "NotebookApp.rate_limit_window=3.0 (secs)\n",
      "\n",
      "VT 10',\n",
      "                     'VT 10 Epi', 'VT 14', 'VT 2', 'VT 3'], dtype='<U9')\n",
      "ic| k: 'category'\n",
      "    self.key_map[k]: 'vt_category'\n",
      "    s: (53,)\n",
      "    view[:n]: array([ 3,  4,  7,  8,  9, 11, 12, 13, 14, 16, 17, 18, 19, 20, 21, 22, 26],\n",
      "                    dtype=uint8)\n",
      "ic| k: 'origin'\n",
      "    self.key_map[k]: 'vt_epiendo'\n",
      "    s: (53,)\n",
      "    view[:n]: array([0, 1], dtype=uint8)\n",
      "ic| k: 'slope'\n",
      "    self.key_map[k]: 'vt_all'\n",
      "    s: (53, 32)\n",
      "    view[:n]: array([  7.25      ,  17.04545455,  14.45454545,  39.04545455,\n",
      "                     -56.31818182, -67.13636364, -57.        , -28.43181818,\n",
      "                      25.27272727,  23.84090909,  21.72727273,  -4.84090909,\n",
      "                      34.79545455,  51.70454545,  42.68181818,  52.43181818,\n",
      "                      34.90909091,  55.15909091,  20.81818182, -14.06818182,\n",
      "                      80.81818182, 110.75      ,  60.13636364,  47.45454545,\n",
      "                       0.36363636,   3.63636364, -39.88636364, -32.        ,\n",
      "                     -42.5       , -55.47727273])\n",
      "ic| '\\n': '\n",
      "           '\n",
      "ic| self.nm: 'daeSup', self.path: 'MM_classifier/Superior.mat'\n",
      "ic| k: 'slope'\n",
      "    self.key_map[k]: 'slope_res1'\n",
      "    s: (143, 108)\n",
      "    view[:n]: array([ -16.08823529,   25.08823529,  160.82352941,  136.67647059,\n",
      "                      -91.70588235, -199.97058824,  -81.58823529,   44.38235294,\n",
      "                       -3.84375   ,  -33.70588235,  -10.85294118,   20.61764706,\n",
      "                     -199.14705882,   -2.55882353,  102.52941176,  128.11764706,\n",
      "                      142.88235294,   43.40625   ,  -17.97058824,  -35.64705882,\n",
      "                     -140.44117647, -335.79411765,   88.20588235,  301.38235294,\n",
      "                      209.5       ,   99.29411765,   45.5       ,   24.76470588,\n",
      "                       -6.26470588,  -90.88235294])\n",
      "ic| k: 'case_name'\n",
      "    self.key_map[k]: 'aa2'\n",
      "    s: (143,)\n",
      "    view[:n]: array(['45_143 LV', '45_17 LV', '45_176 LV', '45_178 LV', '45_183 LV',\n",
      "                     '45_20 LV', '45_204 LV', '45_224 LV', '45_252 LV', '45_253 LV'],\n",
      "                    dtype='<U10')\n",
      "ic| '\\n': '\n",
      "           '\n",
      "ic| self.nm: 'daeInf', self.path: 'MM_classifier/inferior.mat'\n",
      "ic| k: 'slope'\n",
      "    self.key_map[k]: 'slope_res'\n",
      "    s: (57, 108)\n",
      "    view[:n]: array([  63.13636364,  -30.68181818, -313.88636364,  -50.22727273,\n",
      "                      162.52272727,   27.18181818,   40.81818182,   64.90909091,\n",
      "                       48.85714286,   29.54545455,   74.65909091,   63.93181818,\n",
      "                     -198.47727273,  -23.72727273,  -40.25      ,   10.15909091,\n",
      "                      -30.56818182,  -19.69047619,  -33.70454545,  104.88636364,\n",
      "                      378.        , -148.13636364, -186.79545455,  -67.13636364,\n",
      "                      -29.56818182,  -96.79545455,  -68.71428571,  -45.68181818,\n",
      "                      -22.86363636,  124.93181818])\n",
      "ic| k: 'case_name'\n",
      "    self.key_map[k]: 'aa1'\n",
      "    s: (57,)\n",
      "    view[:n]: array(['46_144 LV', '46_147 LV', '46_150 LV', '46_155 Epi', '46_164 LV',\n",
      "                     '46_175 Epi', '46_207 LV', '46_217 LV', '46_250 LV', '46_258 LV'],\n",
      "                    dtype='<U10')\n",
      "ic| '\\n': '\n",
      "           '\n",
      "ic| self.nm: 'daeSimul'\n",
      "    self.path: 'MM_classifier/simul_123456789.mat'\n",
      "ic| k: 'patients'\n",
      "    self.key_map[k]: 'patient_list'\n",
      "    s: (46,)\n",
      "    view[:n]: array([13, 14, 15, 16, 17, 18, 19, 20, 21, 22, 23, 24, 25, 26, 27, 28, 29,\n",
      "                     30, 31, 32, 33, 34, 35, 36, 37, 38, 39, 40, 41, 42], dtype=uint8)\n",
      "ic| k: 'pat_num'\n",
      "    self.key_map[k]: 'pm_patnum'\n",
      "    s: (3521,)\n",
      "    view[:n]: array([13, 14, 15, 16, 17, 18, 19, 20, 21, 22, 23, 24, 25, 26, 27, 28, 29,\n",
      "                     30, 31, 32, 33, 34, 35, 36, 37, 38, 39, 40, 41, 42], dtype=uint8)\n",
      "ic| k: 'pace_num'\n",
      "    self.key_map[k]: 'pm_pacenum'\n",
      "    s: (3521,)\n",
      "    view[:n]: array([ 1,  2,  3,  4,  5,  6,  7,  8,  9, 10, 11, 12, 13, 14, 15, 16, 17,\n",
      "                     18, 19, 20, 21, 22, 23, 24, 25, 26, 27, 28, 29, 30], dtype=uint16)\n",
      "ic| k: 'origin'\n",
      "    self.key_map[k]: 'pm_epiendo'\n",
      "    s: (3521,)\n",
      "    view[:n]: array([0, 1], dtype=uint8)\n",
      "ic| k: 'lbbb'\n",
      "    self.key_map[k]: 'pm_lbbb'\n",
      "    s: (3521,)\n",
      "    view[:n]: array([0, 1], dtype=uint8)\n",
      "ic| k: 'qrs_width'\n",
      "    self.key_map[k]: 'pm_qrswidth'\n",
      "    s: (3521,)\n",
      "    view[:n]: array([115, 142, 144, 149, 151, 152, 153, 154, 156, 157, 158, 160, 162,\n",
      "                     163, 164, 165, 166, 167, 168, 169, 170, 175, 178, 179, 180, 181,\n",
      "                     182, 184, 185, 187], dtype=uint16)\n",
      "ic| k: 'category'\n",
      "    self.key_map[k]: 'pm_category'\n",
      "    s: (3521,)\n",
      "    view[:n]: array([ 1,  2,  3,  4,  5,  6,  7,  8,  9, 10, 11, 12, 13, 14, 15, 16, 17,\n",
      "                     18, 19, 20, 21, 22, 25, 26], dtype=uint8)\n",
      "ic| k: 'septum'\n",
      "    self.key_map[k]: 'pm_septum'\n",
      "    s: (3521,)\n",
      "    view[:n]: array([0, 1], dtype=uint8)\n",
      "ic| k: 'qrs_stim'\n",
      "    self.key_map[k]: 'pm_stimqrs'\n",
      "    s: (3521,)\n",
      "    view[:n]: array([12, 14, 16, 17, 18, 19, 20, 22, 23, 24, 25, 27, 29, 30, 31, 32, 33,\n",
      "                     35, 37, 39, 40, 41, 42, 43, 45, 46, 47, 48, 50, 52], dtype=uint16)\n",
      "ic| k: 'volt'\n",
      "    self.key_map[k]: 'pm_volt'\n",
      "    s: (3521,)\n",
      "    view[:n]: array([0.   , 0.03 , 0.04 , 0.05 , 0.06 , 0.07 , 0.08 , 0.09 , 0.1  ,\n",
      "                     0.11 , 0.117, 0.12 , 0.13 , 0.14 , 0.143, 0.15 , 0.16 , 0.17 ,\n",
      "                     0.175, 0.18 , 0.19 , 0.2  , 0.21 , 0.22 , 0.23 , 0.24 , 0.25 ,\n",
      "                     0.26 , 0.27 , 0.28 ])\n",
      "ic| k: 'all'\n",
      "    self.key_map[k]: 'pm_all'\n",
      "    s: (3521, 72)\n",
      "    view[:n]: array([ 67.48571429,  32.08571429,  28.48571429,  15.88571429,\n",
      "                      44.17142857, -26.97142857, -21.54285714, -11.57142857,\n",
      "                     -23.3030303 , 103.42857143,  58.45714286,  59.22857143,\n",
      "                      11.82857143, -99.31428571, -91.91428571, -15.82857143,\n",
      "                     -14.34285714,  13.96969697, -85.34285714, -45.08571429,\n",
      "                     -43.8       , -13.51428571,  27.65714286,  59.77142857,\n",
      "                      17.62857143,  13.        ,   4.66666667,  15.22857143,\n",
      "                       2.51428571,  -0.91428571])\n",
      "ic| '\\n': '\n",
      "           '\n",
      "ic| self.nm: 'daePmLst'\n",
      "    self.path: 'MM_classifier/pacemaplist_matlab_dyj.mat'\n",
      "ic| k: 'pat_num'\n",
      "    self.key_map[k]: 'pmlist_patnum'\n",
      "    s: (4412,)\n",
      "    view[:n]: array([11, 13, 14, 15, 16, 17, 18, 19, 20, 21, 22, 23, 24, 25, 26, 27, 28,\n",
      "                     29, 30, 31, 32, 33, 34, 35, 36, 37, 38, 39, 40, 41], dtype=uint16)\n",
      "ic| k: 'pace_num'\n",
      "    self.key_map[k]: 'pmlist_pacenum'\n",
      "    s: (4412,)\n",
      "    view[:n]: array(['1', '1 CS', '1 Epi', '1 LV', '1 RV', '10', '10 CS', '10 Epi',\n",
      "                     '10 LV', '10 RV'], dtype='<U14')\n",
      "ic| k: 'pace_site'\n",
      "    self.key_map[k]: 'pmlist_pacesite'\n",
      "    s: (4412,)\n",
      "    view[:n]: array([ 1,  2,  3,  4,  5,  6,  7,  8,  9, 10, 11, 12, 13, 14, 15, 16, 17,\n",
      "                     18, 19, 20, 21, 22, 25, 26], dtype=uint8)\n",
      "ic| k: 'origin'\n",
      "    self.key_map[k]: 'pmlist_epiendo'\n",
      "    s: (4412,)\n",
      "    view[:n]: array([0, 1], dtype=uint8)\n",
      "ic| k: 'septum'\n",
      "    self.key_map[k]: 'pmlist_septum'\n",
      "    s: (4412,)\n",
      "    view[:n]: array([0, 1], dtype=uint8)\n",
      "ic| k: 'qrs_stim'\n",
      "    self.key_map[k]: 'pmlist_stimqrs'\n",
      "    s: (4412,)\n",
      "    view[:n]: array([ 0, 12, 13, 14, 15, 16, 17, 18, 19, 20, 21, 22, 23, 24, 25, 26, 27,\n",
      "                     28, 29, 30, 31, 32, 33, 35, 36, 37, 38, 39, 40, 41], dtype=uint16)\n",
      "ic| k: 'volt'\n",
      "    self.key_map[k]: 'pmlist_volt'\n",
      "    s: (4412,)\n",
      "    view[:n]: array([0.   , 0.01 IOPub message rate exceeded.\n",
      "The notebook server will temporarily stop sending output\n",
      "to the client in order to avoid crashing it.\n",
      "To change this limit, set the config variable\n",
      "`--NotebookApp.iopub_msg_rate_limit`.\n",
      "\n",
      "Current values:\n",
      "NotebookApp.iopub_msg_rate_limit=1000.0 (msgs/sec)\n",
      "NotebookApp.rate_limit_window=3.0 (secs)\n",
      "\n",
      "ic| dnm: 'daePm'\n",
      "    d.path: 'MM_classifier/alldata.mat'\n",
      "    d.meta: {'dim_ecg': 4200, 'n': 1589, 'num_pat': 18}\n",
      "ic| dnm: 'daePmName'\n",
      "    d.path: 'MM_classifier/allname.mat'\n",
      "    d.meta: {'dim_ecg': None, 'n': 1589, 'num_pat': 18}\n",
      "ic| dnm: 'daePmFw'\n",
      "    d.path: 'MM_classifier/freewall.mat'\n",
      "    d.meta: {'dim_ecg': None, 'n': 990, 'num_pat': 8}\n",
      "ic| dnm: 'daeVt'\n",
      "    d.path: 'MM_classifier/vtdata.mat'\n",
      "    d.meta: {'dim_ecg': 4200, 'n': 156, 'num_pat': 18}\n",
      "ic| dnm: 'daeRaw'\n",
      "    d.path: 'MM_classifier/ecg_nonnorm.mat'\n",
      "    d.meta: {'dim_ecg': 5784, 'n': 12, 'num_pat': {'pm': 8, 'pvc': 3, 'vt': 7}}\n",
      "ic| dnm: 'daeRawCnm'\n",
      "    d.path: 'MM_classifier/filename.mat'\n",
      "    d.meta: {'dim_ecg': None, 'n': 503, 'num_pat': None}\n",
      "ic| dnm: 'daePmCtrl'\n",
      "    d.path: 'MM_classifier/allcontrol.mat'\n",
      "    d.meta: {'dim_ecg': 4200, 'n': 68, 'num_pat': 7}\n",
      "ic| dnm: 'daePvcCtrl'\n",
      "    d.path: 'MM_classifier/allcontrol.mat'\n",
      "    d.meta: {'dim_ecg': 4200, 'n': 7, 'num_pat': 7}\n",
      "ic| dnm: 'daePmSlope'\n",
      "    d.path: 'MM_classifier/pm_slopes.mat'\n",
      "    d.meta: {'dim_ecg': 108, 'n': 1589, 'num_pat': 18}\n",
      "ic| dnm: 'daeVtSlope'\n",
      "    d.path: 'MM_classifier/vtslope.mat'\n",
      "    d.meta: {'dim_ecg': 108, 'n': 156, 'num_pat': 18}\n",
      "ic| dnm: 'daeVtSlope32'\n",
      "    d.path: 'MM_classifier/vt_slopefea32_1234.mat'\n",
      "    d.meta: {'dim_ecg': 32, 'n': 53, 'num_pat': 28}\n",
      "ic| dnm: 'daeSup'\n",
      "    d.path: 'MM_classifier/Superior.mat'\n",
      "    d.meta: {'dim_ecg': 108, 'n': 143, 'num_pat': 8}\n",
      "ic| dnm: 'daeInf'\n",
      "    d.path: 'MM_classifier/inferior.mat'\n",
      "    d.meta: {'dim_ecg': 108, 'n': 57, 'num_pat': 5}\n",
      "ic| dnm: 'daeSimul'\n",
      "    d.path: 'MM_classifier/simul_123456789.mat'\n",
      "    d.meta: {'dim_ecg': 72, 'n': 3521, 'num_pat': 46}\n",
      "ic| dnm: 'daePmLst'\n",
      "    d.path: 'MM_classifier/pacemaplist_matlab_dyj.mat'\n",
      "    d.meta: {'dim_ecg': None, 'n': 4412, 'num_pat': 62}\n",
      "ic| dnm: 'daeVtLst'\n",
      "    d.path: 'MM_classifier/vtlist_matlab_dyj.mat'\n",
      "    d.meta: {'dim_ecg': None, 'n': 53, 'num_pat': 28}\n",
      "ic| dnm: 'daeLv'\n",
      "    d.path: 'MM_classifier/lvsam.mat'\n",
      "    d.meta: {'dim_ecg': 108, 'n': 24, 'num_pat': 24}\n",
      "ic| dnm: 'daeRv'\n",
      "    d.path: 'MM_classifier/rvsam.mat'\n",
      "    d.meta: {'dim_ecg': 108, 'n': 24, 'num_pat': 24}\n"
     ]
    }
   ],
   "source": [
    "dg = DataGetter()\n",
    "\n",
    "\n",
    "# ic(get_num_patient('daeVt'))\n",
    "# ic(get_num_patient('daePm'))\n",
    "#\n",
    "# daeRaw = dg('daeRaw')\n",
    "#\n",
    "#\n",
    "# for key in ['vt_case_name', 'pvc_case_name', 'pm_case_name']:\n",
    "#     nms = get_patient_names(daeRaw[key])\n",
    "#     ic(key, np.unique(nms).size)\n",
    "#\n",
    "# ic(get_num_patient('daePmCtrl'))\n",
    "# ic(get_num_patient('daePvcCtrl'))\n",
    "# ic(get_num_patient('daePmSlope'))\n",
    "# ic(get_num_patient('daeVtSlope'))\n",
    "# ic(get_num_patient('daeVtSlope32', k='pat_num'))\n",
    "#\n",
    "# for key in ['daeSup.case_name', 'daeInf.case_name']:\n",
    "#     ic(np.unique(get_patient_names(dg(key))).size)\n",
    "#\n",
    "# ic(get_num_patient('daeSimul', k='pat_num'))\n",
    "# ic(get_num_patient('daePmLst', k='pat_num'))\n",
    "# ic(get_num_patient('daeVtLst', k='pat_num'))\n",
    "#\n",
    "# ic(get_num_patient('daeLv'))\n",
    "# ic(get_num_patient('daeRv'))\n",
    "#\n",
    "# for key in ['daePmName.case_name', 'daePmFw.case_name']:\n",
    "#     ic(np.unique(get_patient_names(dg(key))).size)\n",
    "\n",
    "D = dg.DSETS\n",
    "for dnm in D:\n",
    "    dg(dnm).overview()\n",
    "for dnm in D:\n",
    "    d = dg(dnm)\n",
    "    ic(dnm, d.path, d.meta)\n"
   ],
   "metadata": {
    "collapsed": false,
    "pycharm": {
     "name": "#%%\n"
    }
   }
  }
 ],
 "metadata": {
  "kernelspec": {
   "display_name": "Python 3",
   "language": "python",
   "name": "python3"
  },
  "language_info": {
   "codemirror_mode": {
    "name": "ipython",
    "version": 2
   },
   "file_extension": ".py",
   "mimetype": "text/x-python",
   "name": "python",
   "nbconvert_exporter": "python",
   "pygments_lexer": "ipython2",
   "version": "2.7.6"
  }
 },
 "nbformat": 4,
 "nbformat_minor": 0
}