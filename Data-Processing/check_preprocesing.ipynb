{
 "cells": [
  {
   "cell_type": "markdown",
   "source": [
    "# Check Preprocessing\n",
    "\n",
    "Stefan, Yuzhao Heng\n",
    "\n",
    "Since Mon. Sep. 20th, 2021\n",
    "\n",
    "\n",
    "## Idea\n",
    "\n",
    "Preprocessing done by Dae Yon Jung per **Computerized analysis of the 12-lead electrocardiogram to identify epicardial ventricular tachycardia exit sites** is\n",
    "1) Normalize by energy\n",
    "2) To equal length\n",
    "\n",
    "So to check each pre-processing done.\n",
    "\n",
    "\n",
    "\n",
    "## Setup\n",
    "\n"
   ],
   "metadata": {
    "collapsed": false
   }
  },
  {
   "cell_type": "code",
   "execution_count": 2,
   "metadata": {
    "collapsed": true
   },
   "outputs": [],
   "source": [
    "import numpy as np\n",
    "\n",
    "import os\n",
    "\n",
    "from icecream import ic\n",
    "\n",
    "from ecg_data import DataGetter\n",
    "\n",
    "\n",
    "os.chdir('../../PVC_DATA')\n",
    "\n",
    "dg = DataGetter()\n",
    "ecgs = dg('daePm.ecg')\n"
   ]
  },
  {
   "cell_type": "markdown",
   "source": [
    "## Check energy normalization\n",
    "\n"
   ],
   "metadata": {
    "collapsed": false
   }
  },
  {
   "cell_type": "code",
   "execution_count": 3,
   "outputs": [
    {
     "name": "stderr",
     "output_type": "stream",
     "text": [
      "ic| energy[:10]: array([4.35277046e+11, 2.88706795e+11, 3.57482312e+11, 3.45159420e+11,\n",
      "                        4.61879078e+11, 4.33934099e+11, 4.74485399e+11, 3.63889221e+11,\n",
      "                        3.75264143e+11, 3.02121151e+11])\n"
     ]
    },
    {
     "data": {
      "text/plain": "array([4.35277046e+11, 2.88706795e+11, 3.57482312e+11, 3.45159420e+11,\n       4.61879078e+11, 4.33934099e+11, 4.74485399e+11, 3.63889221e+11,\n       3.75264143e+11, 3.02121151e+11])"
     },
     "execution_count": 3,
     "metadata": {},
     "output_type": "execute_result"
    }
   ],
   "source": [
    "energy = np.sum(np.square(ecgs), axis=-1)\n",
    "ic(energy[:10])  # Looks like normalization is not done properly???\n",
    "\n"
   ],
   "metadata": {
    "collapsed": false,
    "pycharm": {
     "name": "#%%\n"
    }
   }
  }
 ],
 "metadata": {
  "kernelspec": {
   "display_name": "Python 3",
   "language": "python",
   "name": "python3"
  },
  "language_info": {
   "codemirror_mode": {
    "name": "ipython",
    "version": 2
   },
   "file_extension": ".py",
   "mimetype": "text/x-python",
   "name": "python",
   "nbconvert_exporter": "python",
   "pygments_lexer": "ipython2",
   "version": "2.7.6"
  }
 },
 "nbformat": 4,
 "nbformat_minor": 0
}